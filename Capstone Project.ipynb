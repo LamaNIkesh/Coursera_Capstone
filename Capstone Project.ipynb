{
 "cells": [
  {
   "cell_type": "markdown",
   "id": "58f5db1b-56c8-4f7e-98c4-f44799d56850",
   "metadata": {},
   "source": [
    "## IBM Datascience Capstone Project Notebook \n",
    "\n",
    "\n",
    "> This notebook will be used for the main capstone project. I will update the page as I make progress.  \n"
   ]
  },
  {
   "cell_type": "code",
   "execution_count": 1,
   "id": "f3fdc41e-994f-46d2-a029-31b9ca0f6700",
   "metadata": {},
   "outputs": [],
   "source": [
    "#import libs\n",
    "import numpy as np\n",
    "import pandas as pd"
   ]
  },
  {
   "cell_type": "code",
   "execution_count": 2,
   "id": "4969dca8-0788-4386-bafb-6c4a0b0ad321",
   "metadata": {},
   "outputs": [
    {
     "name": "stdout",
     "output_type": "stream",
     "text": [
      "Hello Capstone Project Course!\n"
     ]
    }
   ],
   "source": [
    "print(\"Hello Capstone Project Course!\")"
   ]
  },
  {
   "cell_type": "code",
   "execution_count": null,
   "id": "0d9a0108-5fc1-4ab6-92d7-ed3f5ead1b65",
   "metadata": {},
   "outputs": [],
   "source": []
  }
 ],
 "metadata": {
  "kernelspec": {
   "display_name": "datasci-env",
   "language": "python",
   "name": "datasci-env"
  },
  "language_info": {
   "codemirror_mode": {
    "name": "ipython",
    "version": 3
   },
   "file_extension": ".py",
   "mimetype": "text/x-python",
   "name": "python",
   "nbconvert_exporter": "python",
   "pygments_lexer": "ipython3",
   "version": "3.9.5"
  }
 },
 "nbformat": 4,
 "nbformat_minor": 5
}
